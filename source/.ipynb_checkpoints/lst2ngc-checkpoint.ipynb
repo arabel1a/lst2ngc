{
 "cells": [
  {
   "cell_type": "code",
   "execution_count": 1,
   "id": "c3ff38c9",
   "metadata": {},
   "outputs": [
    {
     "data": {
      "text/plain": [
       "['../config.txt']"
      ]
     },
     "execution_count": 1,
     "metadata": {},
     "output_type": "execute_result"
    }
   ],
   "source": [
    "# main.py\n",
    "from general_converter import Converter\n",
    "from lst2ngc import LST2NGC\n",
    "from configparser import ConfigParser\n",
    "def return_same(x):\n",
    "    return x[0], \"\", \"unparsible\"\n",
    "\n",
    "cp = ConfigParser()\n",
    "cp.read('../config.txt')"
   ]
  },
  {
   "cell_type": "code",
   "execution_count": 11,
   "id": "e22c5d51",
   "metadata": {},
   "outputs": [
    {
     "name": "stdout",
     "output_type": "stream",
     "text": [
      "preparations ok\n",
      "operating file ../../lst_examples/test21/AAA.LST\n",
      "loading ok\n",
      "analysis ok\n"
     ]
    }
   ],
   "source": [
    "conv = LST2NGC(config=cp)\n",
    "conv.convert(\"../../lst_examples/test21/AAA.LST\", \"../../lst_examples/test21/AAA.ngc\")"
   ]
  },
  {
   "cell_type": "code",
   "execution_count": 12,
   "id": "fe65fa76",
   "metadata": {
    "scrolled": true
   },
   "outputs": [
    {
     "data": {
      "text/plain": [
       "['Synthesis section PROGRAMM error: \"\\'L10000001\\'\"']"
      ]
     },
     "execution_count": 12,
     "metadata": {},
     "output_type": "execute_result"
    }
   ],
   "source": [
    "\n",
    "conv.errors"
   ]
  },
  {
   "cell_type": "code",
   "execution_count": 4,
   "id": "fc579067",
   "metadata": {},
   "outputs": [
    {
     "data": {
      "text/plain": [
       "'01025000'            'Rund 2.5'\n",
       "'04120025'    'Rectangle 12x2.5'\n",
       "'04300030'    'Rectangle 30x3.5'\n",
       "Name: Bemerkung, dtype: object"
      ]
     },
     "execution_count": 4,
     "metadata": {},
     "output_type": "execute_result"
    }
   ],
   "source": [
    "conv.sections['WZG_STAMM'].config[\"Bemerkung\"]"
   ]
  },
  {
   "cell_type": "code",
   "execution_count": 5,
   "id": "b77df3cc",
   "metadata": {},
   "outputs": [
    {
     "data": {
      "text/plain": [
       "{'TC_TOOL_TECH': ['PTT', 'M153 \\n    M165 P#<_PRESSERFOOT_ON>'],\n",
       " 'TC_SHEET_TECH': ['SHEET_TECH', 'M153'],\n",
       " 'TC_SHEET_LOAD': ['SHEET_LOAD', 'M651'],\n",
       " 'TC_SHEET_UNLOAD': ['SHEET_UNLOAD', 'M652'],\n",
       " 'TC_PART_UNLOAD': ['PART_UNLOAD', 'M667'],\n",
       " 'TC_SHEET_REPOSIT': ['SHEET_REPOSIT', ' M610']}"
      ]
     },
     "execution_count": 5,
     "metadata": {},
     "output_type": "execute_result"
    }
   ],
   "source": [
    "conv.groups"
   ]
  },
  {
   "cell_type": "code",
   "execution_count": 6,
   "id": "ec96cede",
   "metadata": {},
   "outputs": [
    {
     "data": {
      "text/plain": [
       "str"
      ]
     },
     "execution_count": 6,
     "metadata": {},
     "output_type": "execute_result"
    }
   ],
   "source": [
    "type(conv.sections['EINRICHTEPLAN_INFO'].config.loc[\"'TC2000'\", 'Typ'])"
   ]
  },
  {
   "cell_type": "code",
   "execution_count": 7,
   "id": "bf66474e",
   "metadata": {},
   "outputs": [
    {
     "data": {
      "text/plain": [
       "{\"'1'\": 1,\n",
       " 'move': 2,\n",
       " ('EINRICHTEPLAN_INFO', \"'TC2000'\"): 3,\n",
       " ('PTT', \"'PTT-1'\"): 4,\n",
       " ('PTT', \"'PTT-2'\"): 5,\n",
       " ('PTT', \"'PTT-3'\"): 6,\n",
       " ('SHEET_TECH', \"'SHT-1'\"): 7,\n",
       " ('SHEET_LOAD', \"'SHL-1'\"): 8,\n",
       " ('SHEET_UNLOAD', \"'SHU-1'\"): 9,\n",
       " ('PART_UNLOAD', \"'PAU-1'\"): 10,\n",
       " ('SHEET_REPOSIT', \"'RPO-1'\"): 11,\n",
       " ('WZG_STAMM', \"'01025000'\"): 12,\n",
       " ('WZG_STAMM', \"'04120025'\"): 13,\n",
       " ('WZG_STAMM', \"'04300030'\"): 14,\n",
       " ('WZG_CALLS', \"'01025000'\"): 15,\n",
       " ('WZG_CALLS', \"'04120025'\"): 16,\n",
       " ('WZG_CALLS', \"'04300030'\"): 17,\n",
       " ('PROGRAMM', \"'1'\"): 18}"
      ]
     },
     "execution_count": 7,
     "metadata": {},
     "output_type": "execute_result"
    }
   ],
   "source": [
    "conv.subroutines"
   ]
  },
  {
   "cell_type": "code",
   "execution_count": 8,
   "id": "838c490e",
   "metadata": {},
   "outputs": [
    {
     "data": {
      "text/plain": [
       "['BD\\n',\n",
       " 'SET_METRIC\\n',\n",
       " 'C\\n',\n",
       " 'C\\n',\n",
       " 'C\\n',\n",
       " 'C\\n',\n",
       " 'C\\n',\n",
       " 'C\\n',\n",
       " 'C\\n',\n",
       " 'C\\n',\n",
       " 'C\\n',\n",
       " 'C\\n',\n",
       " 'ED\\n',\n",
       " '\\n',\n",
       " '\\n']"
      ]
     },
     "execution_count": 8,
     "metadata": {},
     "output_type": "execute_result"
    }
   ],
   "source": [
    "conv.sections[\"main\"].i_code"
   ]
  },
  {
   "cell_type": "code",
   "execution_count": 9,
   "id": "b5844c82",
   "metadata": {},
   "outputs": [
    {
     "data": {
      "text/plain": [
       "'12.0'"
      ]
     },
     "execution_count": 9,
     "metadata": {},
     "output_type": "execute_result"
    }
   ],
   "source": [
    "import re\n",
    "s='TC_POS_ACCEL(12.0,5.6,11.7,3.5)'\n",
    "pattern = r'TC_POS_ACCEL\\s*\\(\\s*\\s*([-+]?(?:\\d+(?:\\.\\d*)?|\\.\\d+)(?:[eE][-+]?\\d+)?)\\s*,\\s*\\s*([-+]?(?:\\d+(?:\\.\\d*)?|\\.\\d+)(?:[eE][-+]?\\d+)?)\\s*,\\s*\\s*([-+]?(?:\\d+(?:\\.\\d*)?|\\.\\d+)(?:[eE][-+]?\\d+)?)\\s*,\\s*\\s*([-+]?(?:\\d+(?:\\.\\d*)?|\\.\\d+)(?:[eE][-+]?\\d+)?)\\s*\\)'\n",
    "re.match(pattern, s).groups()[0]"
   ]
  },
  {
   "cell_type": "code",
   "execution_count": 10,
   "id": "7133f647",
   "metadata": {},
   "outputs": [
    {
     "data": {
      "text/plain": [
       "'1'"
      ]
     },
     "execution_count": 10,
     "metadata": {},
     "output_type": "execute_result"
    }
   ],
   "source": [
    "re.match(r\"(\\s*[Nn]\\d+\\s*)?\\s*[Tt]\\s*#<_[tT][oO][oO][lL]_(\\d{1,2})\\s*>\\s*\",\"    T#<_TOOL_1 >\").groups()[1]"
   ]
  }
 ],
 "metadata": {
  "kernelspec": {
   "display_name": "Python 3 (ipykernel)",
   "language": "python",
   "name": "python3"
  },
  "language_info": {
   "codemirror_mode": {
    "name": "ipython",
    "version": 3
   },
   "file_extension": ".py",
   "mimetype": "text/x-python",
   "name": "python",
   "nbconvert_exporter": "python",
   "pygments_lexer": "ipython3",
   "version": "3.10.9"
  }
 },
 "nbformat": 4,
 "nbformat_minor": 5
}
