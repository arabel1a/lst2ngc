{
 "cells": [
  {
   "cell_type": "code",
   "execution_count": 1,
   "id": "c3ff38c9",
   "metadata": {},
   "outputs": [],
   "source": [
    "# main.py\n",
    "from lst2ngc import Converter\n",
    "import  re"
   ]
  },
  {
   "cell_type": "code",
   "execution_count": 2,
   "id": "e22c5d51",
   "metadata": {},
   "outputs": [],
   "source": [
    "conv = Converter()"
   ]
  },
  {
   "cell_type": "code",
   "execution_count": 3,
   "id": "2de501db",
   "metadata": {},
   "outputs": [
    {
     "name": "stdout",
     "output_type": "stream",
     "text": [
      "loading ok\n",
      "analysis ok\n",
      "synthesis ok\n",
      "saving ok\n"
     ]
    }
   ],
   "source": [
    "Converter().convert(\"../TEST005.LST\", \"../TEST005.ngc\")"
   ]
  },
  {
   "cell_type": "code",
   "execution_count": 4,
   "id": "b527a2ee",
   "metadata": {},
   "outputs": [
    {
     "data": {
      "text/plain": [
       "('unparsible', 'N12423 X9 ')"
      ]
     },
     "execution_count": 4,
     "metadata": {},
     "output_type": "execute_result"
    }
   ],
   "source": [
    "conv.process(\"N12423 X9 ;fsdfsdfsdf\")"
   ]
  },
  {
   "cell_type": "code",
   "execution_count": 12,
   "id": "5e165afd",
   "metadata": {},
   "outputs": [
    {
     "data": {
      "text/plain": [
       "dict_keys(['\\\\s*(;.*)', '^\\\\s*N(\\\\d+)', '(G70)(\\\\D)', '(G71)(\\\\D)', '(G01)(\\\\D)', '(G00)(\\\\D)', '(G02)(\\\\D)', '(G03)(\\\\D)', '(M30)(\\\\D)', '(TC_TOOL_CHANGE)(\\\\D)', '(TC_SUCTION_ON)(\\\\D)', '(TC_SUCTION_OFF)(\\\\D)', '(PRESSERFOOT_ON)(\\\\D)', '(PRESSERFOOT_OFF)(\\\\D)', '(G90)(\\\\D)', '(G91)(\\\\D)', '(G53)(\\\\D)', 'F\\\\s*([-+]?(?:\\\\d+(?:\\\\.\\\\d*)?|\\\\.\\\\d+)(?:[eE][-+]?\\\\d+)?)', 'X\\\\s*([-+]?(?:\\\\d+(?:\\\\.\\\\d*)?|\\\\.\\\\d+)(?:[eE][-+]?\\\\d+)?)', 'Y\\\\s*([-+]?(?:\\\\d+(?:\\\\.\\\\d*)?|\\\\.\\\\d+)(?:[eE][-+]?\\\\d+)?)', 'I\\\\s*([-+]?(?:\\\\d+(?:\\\\.\\\\d*)?|\\\\.\\\\d+)(?:[eE][-+]?\\\\d+)?)', 'J\\\\s*([-+]?(?:\\\\d+(?:\\\\.\\\\d*)?|\\\\.\\\\d+)(?:[eE][-+]?\\\\d+)?)', 'SPP=\\\\s*([-+]?(?:\\\\d+(?:\\\\.\\\\d*)?|\\\\.\\\\d+)(?:[eE][-+]?\\\\d+)?)', 'TC_TOOL_NO\\\\s*\\\\(\\\\s*\"(\\\\d+)\"\\\\s*\\\\)', 'TC_TOOL_TECH\\\\s*\\\\(\\\\s*\"([^\"]+)\"\\\\s*\\\\)', 'TC_SHEET_TECH\\\\s*\\\\(\\\\s*\"([^\"]+)\"\\\\s*\\\\)', 'TC_SHEET_LOAD\\\\s*\\\\(\\\\s*\"([^\"]+)\"\\\\s*\\\\)', 'TC_SHEET_UNLOAD\\\\s*\\\\(\\\\s*\"([^\"]+)\"\\\\s*\\\\)', 'TC_PART_UNLOAD\\\\s*\\\\(\\\\s*\"([^\"]+)\"\\\\s*\\\\)', 'TC_SHEET_REPOSIT\\\\s*\\\\(\\\\s*\"([^\"]+)\"\\\\s*\\\\)', 'TC_POS_ACCEL\\\\s*\\\\(\\\\s*\\\\s*([-+]?(?:\\\\d+(?:\\\\.\\\\d*)?|\\\\.\\\\d+)(?:[eE][-+]?\\\\d+)?)\\\\s*,\\\\s*\\\\s*([-+]?(?:\\\\d+(?:\\\\.\\\\d*)?|\\\\.\\\\d+)(?:[eE][-+]?\\\\d+)?)\\\\s*,\\\\s*\\\\s*([-+]?(?:\\\\d+(?:\\\\.\\\\d*)?|\\\\.\\\\d+)(?:[eE][-+]?\\\\d+)?)\\\\s*,\\\\s*\\\\s*([-+]?(?:\\\\d+(?:\\\\.\\\\d*)?|\\\\.\\\\d+)(?:[eE][-+]?\\\\d+)?)\\\\s*\\\\)', 'TRAILON\\\\(C[12],C[12]\\\\)', 'PUNCH_ON', 'PUNCH_OFF', 'NIBBLE_ON', 'NIBBLE_OFF', 'TC_TANGTOOL_OFF', 'TC_TANGTOOL_ON\\\\s*\\\\(\\\\s*(\\\\s*([-+]?(?:\\\\d+(?:\\\\.\\\\d*)?|\\\\.\\\\d+)(?:[eE][-+]?\\\\d+)?))\\\\s*', 'TC_CLAMP_CYC', 'M17'])"
      ]
     },
     "execution_count": 12,
     "metadata": {},
     "output_type": "execute_result"
    }
   ],
   "source": [
    "p = conv.build_processor()\n",
    "p.keys()"
   ]
  },
  {
   "cell_type": "code",
   "execution_count": 6,
   "id": "e6d1d0df",
   "metadata": {},
   "outputs": [],
   "source": [
    "class asd:\n",
    "    def __init__(self):\n",
    "        self.hui = 12312\n",
    "        \n",
    "    def kek(self):\n",
    "        def lol(mult):\n",
    "            print(self.hui * mult)\n",
    "            \n",
    "        return lol\n",
    "    "
   ]
  },
  {
   "cell_type": "code",
   "execution_count": 7,
   "id": "9fd3407a",
   "metadata": {},
   "outputs": [],
   "source": [
    "f = lambda x: x[1]"
   ]
  },
  {
   "cell_type": "code",
   "execution_count": 8,
   "id": "a9dcd5dc",
   "metadata": {},
   "outputs": [
    {
     "data": {
      "text/plain": [
       "'['"
      ]
     },
     "execution_count": 8,
     "metadata": {},
     "output_type": "execute_result"
    }
   ],
   "source": [
    "x = \"p[asdsad]\"\n",
    "f(x)"
   ]
  },
  {
   "cell_type": "code",
   "execution_count": 9,
   "id": "1a515a49",
   "metadata": {},
   "outputs": [
    {
     "name": "stdout",
     "output_type": "stream",
     "text": [
      "\\s*(;.*)\n",
      "^\\s*N(\\d+)\n",
      "F\\s*([-+]?(?:\\d+(?:\\.\\d*)?|\\.\\d+)(?:[eE][-+]?\\d+)?)\n"
     ]
    }
   ],
   "source": [
    "# ca = re.compile(\";.*\")\n",
    "# s = ca.sub(\"\",\"N12423 X9 ;fksdfklds\")\n",
    "line = \"N12423   F9    ;fksdfkld  sds  s\"\n",
    "conv.process_re(\"N12423   F9    ;fksdfkld  sds  s\")\n",
    "\n",
    "\n",
    "for pattern in conv.processor:\n",
    "    if re.search(pattern, line):\n",
    "        print(pattern)"
   ]
  },
  {
   "cell_type": "code",
   "execution_count": 10,
   "id": "055dc424",
   "metadata": {},
   "outputs": [
    {
     "data": {
      "text/plain": [
       "('SPP=9', '', 'OK')"
      ]
     },
     "execution_count": 10,
     "metadata": {},
     "output_type": "execute_result"
    }
   ],
   "source": [
    "conv.processor[\"F\\s*([-+]?(?:\\d+(?:\\.\\d*)?|\\.\\d+)(?:[eE][-+]?\\d+)?)\"](\"F9\")"
   ]
  },
  {
   "cell_type": "code",
   "execution_count": 27,
   "id": "a64ae9d0",
   "metadata": {},
   "outputs": [
    {
     "name": "stdout",
     "output_type": "stream",
     "text": [
      "('SPP=f', '', 'ok')\n",
      "('SPP=f', '', 'ok')\n",
      "('SPP=f', '', 'ok')\n",
      "('SPP=f', '', 'ok')\n",
      "('SPP=f', '', 'ok')\n",
      "('SPP=f', '', 'ok')\n"
     ]
    }
   ],
   "source": [
    "float_patern = r\"\\s*([-+]?(?:\\d+(?:\\.\\d*)?|\\.\\d+)(?:[eE][-+]?\\d+)?)\"\n",
    "processor = {}\n",
    "for coord in [\"F\", \"X\", \"Y\", \"I\", \"J\", \"SPP=\"]:\n",
    "    coord_pattern = coord + float_patern\n",
    "    processor[coord_pattern] = lambda x: (coord + x[1], \"\", \"ok\" )\n",
    "\n",
    "    \n",
    "for pattern in processor:    \n",
    "    print(processor[pattern](\"dfsdfs\"))"
   ]
  },
  {
   "cell_type": "code",
   "execution_count": 38,
   "id": "47d71f07",
   "metadata": {},
   "outputs": [
    {
     "name": "stdout",
     "output_type": "stream",
     "text": [
      "('32', '', 'ok')\n",
      "('32', '', 'ok')\n",
      "('32', '', 'ok')\n"
     ]
    }
   ],
   "source": []
  },
  {
   "cell_type": "code",
   "execution_count": 16,
   "id": "c6c39366",
   "metadata": {},
   "outputs": [
    {
     "ename": "NameError",
     "evalue": "name 'copy' is not defined",
     "output_type": "error",
     "traceback": [
      "\u001b[0;31m---------------------------------------------------------------------------\u001b[0m",
      "\u001b[0;31mNameError\u001b[0m                                 Traceback (most recent call last)",
      "Cell \u001b[0;32mIn[16], line 6\u001b[0m\n\u001b[1;32m      3\u001b[0m     test[coord] \u001b[38;5;241m=\u001b[39m \u001b[38;5;28;01mlambda\u001b[39;00m x: x \u001b[38;5;241m+\u001b[39m copy(coord)\n\u001b[1;32m      5\u001b[0m \u001b[38;5;28;01mfor\u001b[39;00m coord \u001b[38;5;129;01min\u001b[39;00m [\u001b[38;5;124m\"\u001b[39m\u001b[38;5;124m1\u001b[39m\u001b[38;5;124m\"\u001b[39m,\u001b[38;5;124m\"\u001b[39m\u001b[38;5;124m2\u001b[39m\u001b[38;5;124m\"\u001b[39m,\u001b[38;5;124m\"\u001b[39m\u001b[38;5;124m3\u001b[39m\u001b[38;5;124m\"\u001b[39m]:\n\u001b[0;32m----> 6\u001b[0m     \u001b[38;5;28mprint\u001b[39m(\u001b[43mtest\u001b[49m\u001b[43m[\u001b[49m\u001b[43mcoord\u001b[49m\u001b[43m]\u001b[49m\u001b[43m(\u001b[49m\u001b[38;5;124;43m\"\u001b[39;49m\u001b[38;5;124;43m.\u001b[39;49m\u001b[38;5;124;43m\"\u001b[39;49m\u001b[43m)\u001b[49m)\n\u001b[1;32m      8\u001b[0m \u001b[38;5;28mprint\u001b[39m(\u001b[38;5;124m\"\u001b[39m\u001b[38;5;124mxxx\u001b[39m\u001b[38;5;124m\"\u001b[39m)\n\u001b[1;32m     10\u001b[0m \u001b[38;5;28;01mfor\u001b[39;00m any_name \u001b[38;5;129;01min\u001b[39;00m [\u001b[38;5;124m\"\u001b[39m\u001b[38;5;124m1\u001b[39m\u001b[38;5;124m\"\u001b[39m,\u001b[38;5;124m\"\u001b[39m\u001b[38;5;124m2\u001b[39m\u001b[38;5;124m\"\u001b[39m,\u001b[38;5;124m\"\u001b[39m\u001b[38;5;124m3\u001b[39m\u001b[38;5;124m\"\u001b[39m]:\n",
      "Cell \u001b[0;32mIn[16], line 3\u001b[0m, in \u001b[0;36m<lambda>\u001b[0;34m(x)\u001b[0m\n\u001b[1;32m      1\u001b[0m test \u001b[38;5;241m=\u001b[39m {}    \n\u001b[1;32m      2\u001b[0m \u001b[38;5;28;01mfor\u001b[39;00m coord \u001b[38;5;129;01min\u001b[39;00m [\u001b[38;5;124m\"\u001b[39m\u001b[38;5;124m1\u001b[39m\u001b[38;5;124m\"\u001b[39m,\u001b[38;5;124m\"\u001b[39m\u001b[38;5;124m2\u001b[39m\u001b[38;5;124m\"\u001b[39m,\u001b[38;5;124m\"\u001b[39m\u001b[38;5;124m3\u001b[39m\u001b[38;5;124m\"\u001b[39m]:\n\u001b[0;32m----> 3\u001b[0m     test[coord] \u001b[38;5;241m=\u001b[39m \u001b[38;5;28;01mlambda\u001b[39;00m x: x \u001b[38;5;241m+\u001b[39m \u001b[43mcopy\u001b[49m(coord)\n\u001b[1;32m      5\u001b[0m \u001b[38;5;28;01mfor\u001b[39;00m coord \u001b[38;5;129;01min\u001b[39;00m [\u001b[38;5;124m\"\u001b[39m\u001b[38;5;124m1\u001b[39m\u001b[38;5;124m\"\u001b[39m,\u001b[38;5;124m\"\u001b[39m\u001b[38;5;124m2\u001b[39m\u001b[38;5;124m\"\u001b[39m,\u001b[38;5;124m\"\u001b[39m\u001b[38;5;124m3\u001b[39m\u001b[38;5;124m\"\u001b[39m]:\n\u001b[1;32m      6\u001b[0m     \u001b[38;5;28mprint\u001b[39m(test[coord](\u001b[38;5;124m\"\u001b[39m\u001b[38;5;124m.\u001b[39m\u001b[38;5;124m\"\u001b[39m))\n",
      "\u001b[0;31mNameError\u001b[0m: name 'copy' is not defined"
     ]
    }
   ],
   "source": [
    "test = {}    \n",
    "for one_name in [\"1\",\"2\",\"3\"]:\n",
    "    test[one_name] = lambda x: x + one_name\n",
    "\n",
    "for coord in [\"1\",\"2\",\"3\"]:\n",
    "    print(test[coord](\".\"))\n",
    "    \n",
    "print(\"xxx\")\n",
    "\n",
    "for any_name in [\"1\",\"2\",\"3\"]:\n",
    "    print(test[any_name](\".\"))\n"
   ]
  }
 ],
 "metadata": {
  "kernelspec": {
   "display_name": "Python 3 (ipykernel)",
   "language": "python",
   "name": "python3"
  },
  "language_info": {
   "codemirror_mode": {
    "name": "ipython",
    "version": 3
   },
   "file_extension": ".py",
   "mimetype": "text/x-python",
   "name": "python",
   "nbconvert_exporter": "python",
   "pygments_lexer": "ipython3",
   "version": "3.10.9"
  }
 },
 "nbformat": 4,
 "nbformat_minor": 5
}
