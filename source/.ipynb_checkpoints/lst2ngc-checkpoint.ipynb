{
 "cells": [
  {
   "cell_type": "code",
   "execution_count": 1,
   "id": "c3ff38c9",
   "metadata": {},
   "outputs": [
    {
     "ename": "ImportError",
     "evalue": "cannot import name 'lst2ngc' from 'lst2ngc' (/home/arabella/lst2ngc/source/lst2ngc.py)",
     "output_type": "error",
     "traceback": [
      "\u001b[0;31m---------------------------------------------------------------------------\u001b[0m",
      "\u001b[0;31mImportError\u001b[0m                               Traceback (most recent call last)",
      "Cell \u001b[0;32mIn[1], line 3\u001b[0m\n\u001b[1;32m      1\u001b[0m \u001b[38;5;66;03m# main.py\u001b[39;00m\n\u001b[1;32m      2\u001b[0m \u001b[38;5;28;01mfrom\u001b[39;00m \u001b[38;5;21;01mgeneral_converter\u001b[39;00m \u001b[38;5;28;01mimport\u001b[39;00m Converter\n\u001b[0;32m----> 3\u001b[0m \u001b[38;5;28;01mfrom\u001b[39;00m \u001b[38;5;21;01mlst2ngc\u001b[39;00m \u001b[38;5;28;01mimport\u001b[39;00m lst2ngc\n\u001b[1;32m      5\u001b[0m \u001b[38;5;28;01mdef\u001b[39;00m \u001b[38;5;21mreturn_same\u001b[39m(x):\n\u001b[1;32m      6\u001b[0m     \u001b[38;5;28;01mreturn\u001b[39;00m x[\u001b[38;5;241m0\u001b[39m], \u001b[38;5;124m\"\u001b[39m\u001b[38;5;124m\"\u001b[39m, \u001b[38;5;124m\"\u001b[39m\u001b[38;5;124munparsible\u001b[39m\u001b[38;5;124m\"\u001b[39m\n",
      "\u001b[0;31mImportError\u001b[0m: cannot import name 'lst2ngc' from 'lst2ngc' (/home/arabella/lst2ngc/source/lst2ngc.py)"
     ]
    }
   ],
   "source": [
    "# main.py\n",
    "from general_converter import Converter\n",
    "from lst2ngc import LST2NGC\n",
    "\n",
    "def return_same(x):\n",
    "    return x[0], \"\", \"unparsible\"\n",
    "\n"
   ]
  },
  {
   "cell_type": "code",
   "execution_count": null,
   "id": "e22c5d51",
   "metadata": {},
   "outputs": [],
   "source": [
    "conv = LST2NGC()\n",
    "conv.convert(\"../../lst_examples/test21/TEST3.LST\", \"../examples/AAA.NGC\")"
   ]
  },
  {
   "cell_type": "code",
   "execution_count": null,
   "id": "fe65fa76",
   "metadata": {
    "scrolled": true
   },
   "outputs": [],
   "source": [
    "\n",
    "conv.status"
   ]
  },
  {
   "cell_type": "code",
   "execution_count": null,
   "id": "d7fe6fe3",
   "metadata": {},
   "outputs": [],
   "source": [
    "conv.unparsible"
   ]
  },
  {
   "cell_type": "code",
   "execution_count": null,
   "id": "b77df3cc",
   "metadata": {},
   "outputs": [],
   "source": [
    "conv.sections['PROGRAMM']"
   ]
  },
  {
   "cell_type": "code",
   "execution_count": null,
   "id": "3b32af30",
   "metadata": {},
   "outputs": [],
   "source": [
    "conv.sections['EINRICHTEPLAN_INFO'].data"
   ]
  },
  {
   "cell_type": "code",
   "execution_count": null,
   "id": "7a5d71b5",
   "metadata": {},
   "outputs": [],
   "source": [
    "conv.sections['PTT'].config.loc[\"'PTT-1'\",].index\n"
   ]
  },
  {
   "cell_type": "code",
   "execution_count": null,
   "id": "8d623ddc",
   "metadata": {},
   "outputs": [],
   "source": [
    "conv.sections[\"main\"].i_code"
   ]
  },
  {
   "cell_type": "code",
   "execution_count": null,
   "id": "8bf2f57c",
   "metadata": {},
   "outputs": [],
   "source": [
    "import re\n",
    "s='TC_POS_ACCEL(12.0,5.6,11.7,3.5)'\n",
    "pattern = r'TC_POS_ACCEL\\s*\\(\\s*\\s*([-+]?(?:\\d+(?:\\.\\d*)?|\\.\\d+)(?:[eE][-+]?\\d+)?)\\s*,\\s*\\s*([-+]?(?:\\d+(?:\\.\\d*)?|\\.\\d+)(?:[eE][-+]?\\d+)?)\\s*,\\s*\\s*([-+]?(?:\\d+(?:\\.\\d*)?|\\.\\d+)(?:[eE][-+]?\\d+)?)\\s*,\\s*\\s*([-+]?(?:\\d+(?:\\.\\d*)?|\\.\\d+)(?:[eE][-+]?\\d+)?)\\s*\\)'\n",
    "re.match(pattern, s).groups()[0]"
   ]
  }
 ],
 "metadata": {
  "kernelspec": {
   "display_name": "Python 3 (ipykernel)",
   "language": "python",
   "name": "python3"
  },
  "language_info": {
   "codemirror_mode": {
    "name": "ipython",
    "version": 3
   },
   "file_extension": ".py",
   "mimetype": "text/x-python",
   "name": "python",
   "nbconvert_exporter": "python",
   "pygments_lexer": "ipython3",
   "version": "3.10.9"
  }
 },
 "nbformat": 4,
 "nbformat_minor": 5
}
