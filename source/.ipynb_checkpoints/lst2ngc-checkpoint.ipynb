{
 "cells": [
  {
   "cell_type": "code",
   "execution_count": 1,
   "id": "c3ff38c9",
   "metadata": {},
   "outputs": [
    {
     "data": {
      "text/plain": [
       "['../config.txt']"
      ]
     },
     "execution_count": 1,
     "metadata": {},
     "output_type": "execute_result"
    }
   ],
   "source": [
    "# main.py\n",
    "from general_converter import Converter\n",
    "from lst2ngc import LST2NGC\n",
    "from configparser import ConfigParser\n",
    "def return_same(x):\n",
    "    return x[0], \"\", \"unparsible\"\n",
    "\n",
    "cp = ConfigParser()\n",
    "cp.read('../config.txt')"
   ]
  },
  {
   "cell_type": "code",
   "execution_count": 2,
   "id": "e22c5d51",
   "metadata": {},
   "outputs": [
    {
     "name": "stdout",
     "output_type": "stream",
     "text": [
      "preparations ok\n",
      "operating file ../../lst_examples/tt3/TEST007.LST\n",
      "loading ok\n",
      "analysis ok\n",
      "synthesis ok\n",
      "saving ok\n"
     ]
    }
   ],
   "source": [
    "conv = LST2NGC(config=cp)\n",
    "conv.convert(\"../../lst_examples/tt3/TEST007.LST\", \"../../lst_examples/tt3/TEST007.ngc\")"
   ]
  },
  {
   "cell_type": "code",
   "execution_count": 3,
   "id": "fe65fa76",
   "metadata": {
    "scrolled": true
   },
   "outputs": [
    {
     "data": {
      "text/plain": [
       "[]"
      ]
     },
     "execution_count": 3,
     "metadata": {},
     "output_type": "execute_result"
    }
   ],
   "source": [
    "\n",
    "conv.errors"
   ]
  },
  {
   "cell_type": "code",
   "execution_count": 4,
   "id": "fc579067",
   "metadata": {},
   "outputs": [
    {
     "data": {
      "text/plain": [
       "'5 '"
      ]
     },
     "execution_count": 4,
     "metadata": {},
     "output_type": "execute_result"
    }
   ],
   "source": [
    "conv.sections['WZG_CALLS'].config.loc[\"'01025000'\", 'Werkzeugaufrufnummer'].max()"
   ]
  },
  {
   "cell_type": "code",
   "execution_count": 5,
   "id": "b77df3cc",
   "metadata": {},
   "outputs": [
    {
     "data": {
      "text/plain": [
       "<general_converter.Section at 0x7f47dff8dc60>"
      ]
     },
     "execution_count": 5,
     "metadata": {},
     "output_type": "execute_result"
    }
   ],
   "source": [
    "conv.sections['PROGRAMM']"
   ]
  },
  {
   "cell_type": "code",
   "execution_count": 6,
   "id": "ec96cede",
   "metadata": {},
   "outputs": [
    {
     "data": {
      "text/plain": [
       "str"
      ]
     },
     "execution_count": 6,
     "metadata": {},
     "output_type": "execute_result"
    }
   ],
   "source": [
    "type(conv.sections['EINRICHTEPLAN_INFO'].config.loc[\"'TC2000'\", 'Typ'])"
   ]
  },
  {
   "cell_type": "code",
   "execution_count": 21,
   "id": "bf66474e",
   "metadata": {},
   "outputs": [
    {
     "data": {
      "text/html": [
       "<div>\n",
       "<style scoped>\n",
       "    .dataframe tbody tr th:only-of-type {\n",
       "        vertical-align: middle;\n",
       "    }\n",
       "\n",
       "    .dataframe tbody tr th {\n",
       "        vertical-align: top;\n",
       "    }\n",
       "\n",
       "    .dataframe thead th {\n",
       "        text-align: right;\n",
       "    }\n",
       "</style>\n",
       "<table border=\"1\" class=\"dataframe\">\n",
       "  <thead>\n",
       "    <tr style=\"text-align: right;\">\n",
       "      <th></th>\n",
       "      <th>Identnummer</th>\n",
       "      <th>Duplonummer</th>\n",
       "      <th>Stempelnummer</th>\n",
       "      <th>Magazinplatz</th>\n",
       "      <th>Werkzeugort</th>\n",
       "      <th>Index</th>\n",
       "      <th>Werkzeugtyp</th>\n",
       "      <th>Whispertool</th>\n",
       "      <th>Multitool</th>\n",
       "      <th>Sperrkennung</th>\n",
       "      <th>...</th>\n",
       "      <th>Niederhaltertyp</th>\n",
       "      <th>OT-Lage Blechdicke 0.0</th>\n",
       "      <th>TRUMPF-Kennung</th>\n",
       "      <th>Blechdicke</th>\n",
       "      <th>Blechdickentoleranz</th>\n",
       "      <th>Nachschleiflaenge</th>\n",
       "      <th>Langes Werkzeug</th>\n",
       "      <th>MT-Nullpunktversatz-X</th>\n",
       "      <th>MT-Nullpunktversatz-Y</th>\n",
       "      <th>subroutine_no</th>\n",
       "    </tr>\n",
       "  </thead>\n",
       "  <tbody>\n",
       "    <tr>\n",
       "      <th>''</th>\n",
       "      <td>'01025000'</td>\n",
       "      <td>0</td>\n",
       "      <td>1</td>\n",
       "      <td>1</td>\n",
       "      <td>0</td>\n",
       "      <td>0</td>\n",
       "      <td>1</td>\n",
       "      <td>0</td>\n",
       "      <td>1</td>\n",
       "      <td>0</td>\n",
       "      <td>...</td>\n",
       "      <td>0</td>\n",
       "      <td>0.000</td>\n",
       "      <td>1</td>\n",
       "      <td>0</td>\n",
       "      <td>0</td>\n",
       "      <td>0</td>\n",
       "      <td>0</td>\n",
       "      <td>0.0</td>\n",
       "      <td>0.0</td>\n",
       "      <td>13</td>\n",
       "    </tr>\n",
       "    <tr>\n",
       "      <th>''</th>\n",
       "      <td>'04120025'</td>\n",
       "      <td>0</td>\n",
       "      <td>1</td>\n",
       "      <td>1</td>\n",
       "      <td>0</td>\n",
       "      <td>0</td>\n",
       "      <td>4</td>\n",
       "      <td>0</td>\n",
       "      <td>1</td>\n",
       "      <td>0</td>\n",
       "      <td>...</td>\n",
       "      <td>0</td>\n",
       "      <td>0.000</td>\n",
       "      <td>1</td>\n",
       "      <td>0</td>\n",
       "      <td>0</td>\n",
       "      <td>0</td>\n",
       "      <td>0</td>\n",
       "      <td>0.0</td>\n",
       "      <td>0.0</td>\n",
       "      <td>13</td>\n",
       "    </tr>\n",
       "    <tr>\n",
       "      <th>''</th>\n",
       "      <td>'04300030'</td>\n",
       "      <td>0</td>\n",
       "      <td>1</td>\n",
       "      <td>1</td>\n",
       "      <td>0</td>\n",
       "      <td>0</td>\n",
       "      <td>4</td>\n",
       "      <td>0</td>\n",
       "      <td>1</td>\n",
       "      <td>0</td>\n",
       "      <td>...</td>\n",
       "      <td>0</td>\n",
       "      <td>0.000</td>\n",
       "      <td>1</td>\n",
       "      <td>0</td>\n",
       "      <td>0</td>\n",
       "      <td>0</td>\n",
       "      <td>0</td>\n",
       "      <td>0.0</td>\n",
       "      <td>0.0</td>\n",
       "      <td>13</td>\n",
       "    </tr>\n",
       "  </tbody>\n",
       "</table>\n",
       "<p>3 rows × 39 columns</p>\n",
       "</div>"
      ],
      "text/plain": [
       "   Identnummer Duplonummer Stempelnummer Magazinplatz Werkzeugort Index  \\\n",
       "''  '01025000'           0             1            1           0     0   \n",
       "''  '04120025'           0             1            1           0     0   \n",
       "''  '04300030'           0             1            1           0     0   \n",
       "\n",
       "   Werkzeugtyp Whispertool Multitool Sperrkennung  ... Niederhaltertyp  \\\n",
       "''           1           0         1            0  ...               0   \n",
       "''           4           0         1            0  ...               0   \n",
       "''           4           0         1            0  ...               0   \n",
       "\n",
       "   OT-Lage Blechdicke 0.0 TRUMPF-Kennung Blechdicke Blechdickentoleranz  \\\n",
       "''                  0.000              1          0                   0   \n",
       "''                  0.000              1          0                   0   \n",
       "''                  0.000              1          0                   0   \n",
       "\n",
       "   Nachschleiflaenge Langes Werkzeug MT-Nullpunktversatz-X  \\\n",
       "''                 0               0                   0.0   \n",
       "''                 0               0                   0.0   \n",
       "''                 0               0                   0.0   \n",
       "\n",
       "   MT-Nullpunktversatz-Y subroutine_no  \n",
       "''                  0.0             13  \n",
       "''                  0.0             13  \n",
       "''                  0.0             13  \n",
       "\n",
       "[3 rows x 39 columns]"
      ]
     },
     "execution_count": 21,
     "metadata": {},
     "output_type": "execute_result"
    }
   ],
   "source": [
    "conv.sections['WZG_STAMM'].config.Identnummer#.loc[toolcode'Bemerkung']"
   ]
  },
  {
   "cell_type": "code",
   "execution_count": 8,
   "id": "838c490e",
   "metadata": {},
   "outputs": [
    {
     "data": {
      "text/plain": [
       "['BD\\n',\n",
       " 'SET_METRIC\\n',\n",
       " 'C\\n',\n",
       " 'C\\n',\n",
       " 'C\\n',\n",
       " 'C\\n',\n",
       " 'C\\n',\n",
       " 'C\\n',\n",
       " 'C\\n',\n",
       " 'C\\n',\n",
       " 'C\\n',\n",
       " 'C\\n',\n",
       " 'ED\\n',\n",
       " '\\n',\n",
       " '\\n']"
      ]
     },
     "execution_count": 8,
     "metadata": {},
     "output_type": "execute_result"
    }
   ],
   "source": [
    "conv.sections[\"main\"].i_code"
   ]
  },
  {
   "cell_type": "code",
   "execution_count": 9,
   "id": "b5844c82",
   "metadata": {},
   "outputs": [
    {
     "data": {
      "text/plain": [
       "'12.0'"
      ]
     },
     "execution_count": 9,
     "metadata": {},
     "output_type": "execute_result"
    }
   ],
   "source": [
    "import re\n",
    "s='TC_POS_ACCEL(12.0,5.6,11.7,3.5)'\n",
    "pattern = r'TC_POS_ACCEL\\s*\\(\\s*\\s*([-+]?(?:\\d+(?:\\.\\d*)?|\\.\\d+)(?:[eE][-+]?\\d+)?)\\s*,\\s*\\s*([-+]?(?:\\d+(?:\\.\\d*)?|\\.\\d+)(?:[eE][-+]?\\d+)?)\\s*,\\s*\\s*([-+]?(?:\\d+(?:\\.\\d*)?|\\.\\d+)(?:[eE][-+]?\\d+)?)\\s*,\\s*\\s*([-+]?(?:\\d+(?:\\.\\d*)?|\\.\\d+)(?:[eE][-+]?\\d+)?)\\s*\\)'\n",
    "re.match(pattern, s).groups()[0]"
   ]
  },
  {
   "cell_type": "code",
   "execution_count": 10,
   "id": "7b272947",
   "metadata": {},
   "outputs": [
    {
     "data": {
      "text/plain": [
       "'1'"
      ]
     },
     "execution_count": 10,
     "metadata": {},
     "output_type": "execute_result"
    }
   ],
   "source": [
    "re.match(r\"(\\s*[Nn]\\d+\\s*)?\\s*[Tt]\\s*#<_[tT][oO][oO][lL]_(\\d{1,2})\\s*>\\s*\",\"    T#<_TOOL_1 >\").groups()[1]"
   ]
  }
 ],
 "metadata": {
  "kernelspec": {
   "display_name": "Python 3 (ipykernel)",
   "language": "python",
   "name": "python3"
  },
  "language_info": {
   "codemirror_mode": {
    "name": "ipython",
    "version": 3
   },
   "file_extension": ".py",
   "mimetype": "text/x-python",
   "name": "python",
   "nbconvert_exporter": "python",
   "pygments_lexer": "ipython3",
   "version": "3.10.9"
  }
 },
 "nbformat": 4,
 "nbformat_minor": 5
}
