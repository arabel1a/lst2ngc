{
 "cells": [
  {
   "cell_type": "code",
   "execution_count": 1,
   "id": "c3ff38c9",
   "metadata": {},
   "outputs": [
    {
     "data": {
      "text/plain": [
       "['../config.txt']"
      ]
     },
     "execution_count": 1,
     "metadata": {},
     "output_type": "execute_result"
    }
   ],
   "source": [
    "# main.py\n",
    "from general_converter import Converter\n",
    "from lst2ngc import LST2NGC\n",
    "from configparser import ConfigParser\n",
    "def return_same(x):\n",
    "    return x[0], \"\", \"unparsible\"\n",
    "\n",
    "cp = ConfigParser()\n",
    "cp.read('../config.txt')"
   ]
  },
  {
   "cell_type": "code",
   "execution_count": 2,
   "id": "e22c5d51",
   "metadata": {},
   "outputs": [
    {
     "name": "stdout",
     "output_type": "stream",
     "text": [
      "preparations ok\n",
      "operating file ../../lst_examples/tt3/TEST007.LST\n",
      "loading ok\n",
      "analysis ok\n",
      "synthesis ok\n",
      "saving ok\n"
     ]
    }
   ],
   "source": [
    "conv = LST2NGC(config=cp)\n",
    "conv.convert(\"../../lst_examples/tt3/TEST007.LST\", \"../../lst_examples/tt3/TEST007.ngc\")"
   ]
  },
  {
   "cell_type": "code",
   "execution_count": 3,
   "id": "fe65fa76",
   "metadata": {
    "scrolled": true
   },
   "outputs": [
    {
     "data": {
      "text/plain": [
       "[]"
      ]
     },
     "execution_count": 3,
     "metadata": {},
     "output_type": "execute_result"
    }
   ],
   "source": [
    "\n",
    "conv.errors"
   ]
  },
  {
   "cell_type": "code",
   "execution_count": 13,
   "id": "fc579067",
   "metadata": {},
   "outputs": [
    {
     "data": {
      "text/plain": [
       "'5 '"
      ]
     },
     "execution_count": 13,
     "metadata": {},
     "output_type": "execute_result"
    }
   ],
   "source": [
    "conv.sections['WZG_CALLS'].config.loc[\"'01025000'\", 'Werkzeugaufrufnummer'].max()"
   ]
  },
  {
   "cell_type": "code",
   "execution_count": 5,
   "id": "b77df3cc",
   "metadata": {},
   "outputs": [
    {
     "data": {
      "text/plain": [
       "<general_converter.Section at 0x7fa6fb515c90>"
      ]
     },
     "execution_count": 5,
     "metadata": {},
     "output_type": "execute_result"
    }
   ],
   "source": [
    "conv.sections['PROGRAMM']"
   ]
  },
  {
   "cell_type": "code",
   "execution_count": 15,
   "id": "ec96cede",
   "metadata": {},
   "outputs": [
    {
     "ename": "AttributeError",
     "evalue": "'str' object has no attribute 'max'",
     "output_type": "error",
     "traceback": [
      "\u001b[0;31m---------------------------------------------------------------------------\u001b[0m",
      "\u001b[0;31mAttributeError\u001b[0m                            Traceback (most recent call last)",
      "Cell \u001b[0;32mIn[15], line 1\u001b[0m\n\u001b[0;32m----> 1\u001b[0m \u001b[43mconv\u001b[49m\u001b[38;5;241;43m.\u001b[39;49m\u001b[43msections\u001b[49m\u001b[43m[\u001b[49m\u001b[38;5;124;43m'\u001b[39;49m\u001b[38;5;124;43mEINRICHTEPLAN_INFO\u001b[39;49m\u001b[38;5;124;43m'\u001b[39;49m\u001b[43m]\u001b[49m\u001b[38;5;241;43m.\u001b[39;49m\u001b[43mconfig\u001b[49m\u001b[38;5;241;43m.\u001b[39;49m\u001b[43mloc\u001b[49m\u001b[43m[\u001b[49m\u001b[38;5;124;43m\"\u001b[39;49m\u001b[38;5;124;43m'\u001b[39;49m\u001b[38;5;124;43mTC2000\u001b[39;49m\u001b[38;5;124;43m'\u001b[39;49m\u001b[38;5;124;43m\"\u001b[39;49m\u001b[43m,\u001b[49m\u001b[43m \u001b[49m\u001b[38;5;124;43m'\u001b[39;49m\u001b[38;5;124;43mTyp\u001b[39;49m\u001b[38;5;124;43m'\u001b[39;49m\u001b[43m]\u001b[49m\u001b[38;5;241;43m.\u001b[39;49m\u001b[43mmax\u001b[49m()\n",
      "\u001b[0;31mAttributeError\u001b[0m: 'str' object has no attribute 'max'"
     ]
    }
   ],
   "source": [
    "conv.sections['EINRICHTEPLAN_INFO'].config.loc[\"'TC2000'\", 'Typ']"
   ]
  },
  {
   "cell_type": "code",
   "execution_count": 7,
   "id": "bf66474e",
   "metadata": {},
   "outputs": [
    {
     "data": {
      "text/plain": [
       "Index(['GEWIRO Drehzahl', 'GEWIRO Schmierbehaelter Nr.',\n",
       "       'GEWIRO Anzahl Schmierimpulse', 'Softpunch', 'OT-Offset', 'UT-Offset',\n",
       "       'Arbeitslage', 'TRUMPF-Kennung', 'Anz.C-Achsen Drehung',\n",
       "       'Tabellenart (Werkzeugtyp)', 'Vorschub', 'Stangendruck Abstreifer',\n",
       "       'subroutine_no'],\n",
       "      dtype='object')"
      ]
     },
     "execution_count": 7,
     "metadata": {},
     "output_type": "execute_result"
    }
   ],
   "source": [
    "conv.sections['PTT'].config.loc[\"'PTT-1'\",].index\n"
   ]
  },
  {
   "cell_type": "code",
   "execution_count": 8,
   "id": "838c490e",
   "metadata": {},
   "outputs": [
    {
     "data": {
      "text/plain": [
       "['BD\\n',\n",
       " 'SET_METRIC\\n',\n",
       " 'C\\n',\n",
       " 'C\\n',\n",
       " 'C\\n',\n",
       " 'C\\n',\n",
       " 'C\\n',\n",
       " 'C\\n',\n",
       " 'C\\n',\n",
       " 'C\\n',\n",
       " 'C\\n',\n",
       " 'C\\n',\n",
       " 'ED\\n',\n",
       " '\\n',\n",
       " '\\n']"
      ]
     },
     "execution_count": 8,
     "metadata": {},
     "output_type": "execute_result"
    }
   ],
   "source": [
    "conv.sections[\"main\"].i_code"
   ]
  },
  {
   "cell_type": "code",
   "execution_count": 9,
   "id": "b5844c82",
   "metadata": {},
   "outputs": [
    {
     "data": {
      "text/plain": [
       "'12.0'"
      ]
     },
     "execution_count": 9,
     "metadata": {},
     "output_type": "execute_result"
    }
   ],
   "source": [
    "import re\n",
    "s='TC_POS_ACCEL(12.0,5.6,11.7,3.5)'\n",
    "pattern = r'TC_POS_ACCEL\\s*\\(\\s*\\s*([-+]?(?:\\d+(?:\\.\\d*)?|\\.\\d+)(?:[eE][-+]?\\d+)?)\\s*,\\s*\\s*([-+]?(?:\\d+(?:\\.\\d*)?|\\.\\d+)(?:[eE][-+]?\\d+)?)\\s*,\\s*\\s*([-+]?(?:\\d+(?:\\.\\d*)?|\\.\\d+)(?:[eE][-+]?\\d+)?)\\s*,\\s*\\s*([-+]?(?:\\d+(?:\\.\\d*)?|\\.\\d+)(?:[eE][-+]?\\d+)?)\\s*\\)'\n",
    "re.match(pattern, s).groups()[0]"
   ]
  }
 ],
 "metadata": {
  "kernelspec": {
   "display_name": "Python 3 (ipykernel)",
   "language": "python",
   "name": "python3"
  },
  "language_info": {
   "codemirror_mode": {
    "name": "ipython",
    "version": 3
   },
   "file_extension": ".py",
   "mimetype": "text/x-python",
   "name": "python",
   "nbconvert_exporter": "python",
   "pygments_lexer": "ipython3",
   "version": "3.10.9"
  }
 },
 "nbformat": 4,
 "nbformat_minor": 5
}
